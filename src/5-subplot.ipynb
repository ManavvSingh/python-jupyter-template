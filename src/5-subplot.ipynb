{
 "cells": [
  {
   "cell_type": "markdown",
   "metadata": {},
   "source": [
    "### Exercise 5: Subplot Layout"
   ]
  },
  {
   "cell_type": "code",
   "execution_count": null,
   "metadata": {},
   "outputs": [],
   "source": [
    "# TASK: Create a 2x2 subplot layout.\n",
    "# Plot a line chart in the first subplot, a bar chart in the second, a scatter plot in the third, and a pie chart in the fourth."
   ]
  },
  {
   "cell_type": "code",
   "execution_count": null,
   "metadata": {},
   "outputs": [],
   "source": [
    "import matplotlib.pyplot as plt\n",
    "\n",
    "# Create a 2x2 subplot layout\n",
    "fig, axs = plt.subplots(2, 2, figsize=(10, 8))\n",
    "\n",
    "# 1. Line Chart (Top-Left)\n",
    "x = [0, 1, 2, 3, 4, 5]\n",
    "y = [i**2 for i in x]\n",
    "axs[0, 0].plot(x, y, marker='o', color='blue')\n",
    "axs[0, 0].set_title(\"Line Chart\")\n",
    "axs[0, 0].set_xlabel(\"X\")\n",
    "axs[0, 0].set_ylabel(\"Y\")\n",
    "axs[0, 0].grid(True)\n",
    "\n",
    "# 2. Bar Chart (Top-Right)\n",
    "categories = ['A', 'B', 'C', 'D']\n",
    "values = [5, 7, 3, 9]\n",
    "axs[0, 1].bar(categories, values, color=['red', 'green', 'blue', 'orange'])\n",
    "axs[0, 1].set_title(\"Bar Chart\")\n",
    "axs[0, 1].set_xlabel(\"Category\")\n",
    "axs[0, 1].set_ylabel(\"Value\")\n",
    "\n",
    "# 3. Scatter Plot (Bottom-Left)\n",
    "x_scatter = [1, 2, 3, 4, 5]\n",
    "y_scatter = [2, 4, 6, 8, 10]\n",
    "axs[1, 0].scatter(x_scatter, y_scatter, color='purple')\n",
    "axs[1, 0].set_title(\"Scatter Plot\")\n",
    "axs[1, 0].set_xlabel(\"X\")\n",
    "axs[1, 0].set_ylabel(\"Y\")\n",
    "\n",
    "# 4. Pie Chart (Bottom-Right)\n",
    "labels = ['Python', 'Java', 'C++', 'JavaScript']\n",
    "sizes = [40, 25, 20, 15]\n",
    "axs[1, 1].pie(sizes, labels=labels, autopct='%1.1f%%', startangle=140)\n",
    "axs[1, 1].set_title(\"Pie Chart\")\n",
    "axs[1, 1].axis('equal')  # Keep the pie chart circular\n",
    "\n",
    "# Adjust layout for spacing\n",
    "plt.tight_layout()\n",
    "\n",
    "# Show the plot\n",
    "plt.show()\n"
   ]
  }
 ],
 "metadata": {
  "language_info": {
   "name": "python"
  }
 },
 "nbformat": 4,
 "nbformat_minor": 2
}
