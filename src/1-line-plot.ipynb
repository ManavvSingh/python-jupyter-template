{
 "cells": [
  {
   "cell_type": "markdown",
   "metadata": {},
   "source": [
    "### Exercise 1: Line Plot Customization"
   ]
  },
  {
   "cell_type": "code",
   "execution_count": null,
   "metadata": {},
   "outputs": [],
   "source": [
    "# TASK: Create a line plot with x values ranging from 0 to 10 and y values as the square of x.\n",
    "# Customize the plot by adding a title, labels for both axes, and a grid."
   ]
  },
  {
   "cell_type": "code",
   "execution_count": null,
   "metadata": {},
   "outputs": [],
   "source": [
    "import matplotlib.pyplot as plt\n",
    "\n",
    "# Data\n",
    "x = list(range(0, 11))             # x values: 0 to 10\n",
    "y = [i**2 for i in x]              # y values: square of x\n",
    "\n",
    "# Plot\n",
    "plt.plot(x, y, marker='o')         # Line plot with markers\n",
    "\n",
    "# Customization\n",
    "plt.title(\"Square of Numbers from 0 to 10\")       # Title\n",
    "plt.xlabel(\"x values\")                            # X-axis label\n",
    "plt.ylabel(\"y = x²\")                              # Y-axis label\n",
    "plt.grid(True)                                    # Add grid\n",
    "\n",
    "# Show the plot\n",
    "plt.show()\n"
   ]
  },
  {
   "cell_type": "code",
   "execution_count": null,
   "metadata": {},
   "outputs": [],
   "source": []
  }
 ],
 "metadata": {
  "language_info": {
   "name": "python"
  }
 },
 "nbformat": 4,
 "nbformat_minor": 2
}
